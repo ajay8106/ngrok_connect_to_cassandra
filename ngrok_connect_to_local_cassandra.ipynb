{
  "nbformat": 4,
  "nbformat_minor": 0,
  "metadata": {
    "colab": {
      "provenance": [],
      "toc_visible": true,
      "authorship_tag": "ABX9TyPK/dpKPT9cnMUAH4CdHjKB",
      "include_colab_link": true
    },
    "kernelspec": {
      "name": "python3",
      "display_name": "Python 3"
    },
    "language_info": {
      "name": "python"
    }
  },
  "cells": [
    {
      "cell_type": "markdown",
      "metadata": {
        "id": "view-in-github",
        "colab_type": "text"
      },
      "source": [
        "<a href=\"https://colab.research.google.com/github/ajay8106/ngrok_connect_to_cassandra/blob/main/ngrok_connect_to_local_cassandra.ipynb\" target=\"_parent\"><img src=\"https://colab.research.google.com/assets/colab-badge.svg\" alt=\"Open In Colab\"/></a>"
      ]
    },
    {
      "cell_type": "code",
      "execution_count": 1,
      "metadata": {
        "colab": {
          "base_uri": "https://localhost:8080/"
        },
        "id": "ooFXJw9WQTco",
        "outputId": "2e27e56c-01bd-4502-ca7a-eb28ce6caf62"
      },
      "outputs": [
        {
          "output_type": "stream",
          "name": "stdout",
          "text": [
            "Collecting cassandra-driver\n",
            "  Downloading cassandra_driver-3.29.1-cp310-cp310-manylinux_2_17_x86_64.manylinux2014_x86_64.whl (18.9 MB)\n",
            "\u001b[2K     \u001b[90m━━━━━━━━━━━━━━━━━━━━━━━━━━━━━━━━━━━━━━━━\u001b[0m \u001b[32m18.9/18.9 MB\u001b[0m \u001b[31m40.4 MB/s\u001b[0m eta \u001b[36m0:00:00\u001b[0m\n",
            "\u001b[?25hCollecting geomet<0.3,>=0.1 (from cassandra-driver)\n",
            "  Downloading geomet-0.2.1.post1-py3-none-any.whl (18 kB)\n",
            "Requirement already satisfied: click in /usr/local/lib/python3.10/dist-packages (from geomet<0.3,>=0.1->cassandra-driver) (8.1.7)\n",
            "Requirement already satisfied: six in /usr/local/lib/python3.10/dist-packages (from geomet<0.3,>=0.1->cassandra-driver) (1.16.0)\n",
            "Installing collected packages: geomet, cassandra-driver\n",
            "Successfully installed cassandra-driver-3.29.1 geomet-0.2.1.post1\n"
          ]
        }
      ],
      "source": [
        "!pip install cassandra-driver"
      ]
    },
    {
      "cell_type": "code",
      "source": [
        "from cassandra.cluster import Cluster\n",
        "from cassandra.auth import PlainTextAuthProvider"
      ],
      "metadata": {
        "id": "amIQI7RDRFBE"
      },
      "execution_count": 2,
      "outputs": []
    },
    {
      "cell_type": "code",
      "source": [
        "ngrok_host = '0.tcp.in.ngrok.io'\n",
        "ngrok_port = 12611  # Replace with your actual ngrok port\n"
      ],
      "metadata": {
        "id": "DCgyQz8XRK96"
      },
      "execution_count": 6,
      "outputs": []
    },
    {
      "cell_type": "code",
      "source": [
        "cluster = Cluster([ngrok_host], port=ngrok_port)\n",
        "session = cluster.connect()\n"
      ],
      "metadata": {
        "colab": {
          "base_uri": "https://localhost:8080/"
        },
        "id": "xfVz3Hx5XkCe",
        "outputId": "a9c74a19-c02d-444e-f5c6-b5e9521b3e4d"
      },
      "execution_count": 8,
      "outputs": [
        {
          "output_type": "stream",
          "name": "stderr",
          "text": [
            "WARNING:cassandra.cluster:Cluster.__init__ called with contact_points specified, but no load_balancing_policy. In the next major version, this will raise an error; please specify a load-balancing policy. (contact_points = ['0.tcp.in.ngrok.io'], lbp = None)\n",
            "WARNING:cassandra.cluster:Downgrading core protocol version from 66 to 65 for 3.6.98.232:12611. To avoid this, it is best practice to explicitly set Cluster(protocol_version) to the version supported by your cluster. http://datastax.github.io/python-driver/api/cassandra/cluster.html#cassandra.cluster.Cluster.protocol_version\n",
            "WARNING:cassandra.cluster:Downgrading core protocol version from 65 to 5 for 3.6.98.232:12611. To avoid this, it is best practice to explicitly set Cluster(protocol_version) to the version supported by your cluster. http://datastax.github.io/python-driver/api/cassandra/cluster.html#cassandra.cluster.Cluster.protocol_version\n"
          ]
        }
      ]
    },
    {
      "cell_type": "code",
      "source": [
        "try:\n",
        "    rows = session.execute(\"SELECT keyspace_name FROM system_schema.keyspaces;\")\n",
        "    print(\"Connection successful!\")\n",
        "    print(\"Keyspaces:\")\n",
        "    for row in rows:\n",
        "        print(row.keyspace_name)\n",
        "except Exception as e:\n",
        "    print(f\"Connection failed: {e}\")"
      ],
      "metadata": {
        "colab": {
          "base_uri": "https://localhost:8080/"
        },
        "id": "5zsceN8ybBqj",
        "outputId": "20a34763-de65-43ea-e6ea-cf2db81d96b5"
      },
      "execution_count": 9,
      "outputs": [
        {
          "output_type": "stream",
          "name": "stdout",
          "text": [
            "Connection successful!\n",
            "Keyspaces:\n",
            "system_auth\n",
            "system_schema\n",
            "fulcrum_ce\n",
            "system_distributed\n",
            "system\n",
            "fulcrum_sme_test\n",
            "fulcrum_sme\n",
            "system_traces\n"
          ]
        }
      ]
    },
    {
      "cell_type": "code",
      "source": [
        "try:\n",
        "    rows = session.execute(\"SELECT * FROM fulcrum_ce.gbi_process;\")\n",
        "    print(\"Connection successful!\")\n",
        "    print(\"output:\")\n",
        "    for row in rows:\n",
        "        print(row)\n",
        "except Exception as e:\n",
        "    print(f\"Connection failed: {e}\")"
      ],
      "metadata": {
        "colab": {
          "base_uri": "https://localhost:8080/"
        },
        "id": "r_iMdvVibjZx",
        "outputId": "74799059-3d5e-4e1e-e30d-60833a6468ce"
      },
      "execution_count": 11,
      "outputs": [
        {
          "output_type": "stream",
          "name": "stdout",
          "text": [
            "Connection successful!\n",
            "output:\n",
            "Row(process_name='load_datalake_bw_sankey_app_flow', batch_sk=None, process_details='{\"PROCESS\":{\"NAME\":\"load_datalake_bw_sankey_app_flow\",\"TEMPLATE\":\"EDWFS_TEMPLATE\",\"ENV_CODE\":\"GBIDL\",\"SK\":0,\"BUSINESS_AREA\":\"ANTIFRAUD\",\"PROCESS_CATEGORY\":\"CORE-ETL\",\"PROCESS_SUB_CATEGORY\":\"S2F\",\"KEYSTONE_ENABLED_INDICATOR\":\"Y\",\"APPLICATION\":{\"OWNER\":\"core_af_mummra\",\"SOURCE\":\"mummra\",\"TARGET\":\"mummra\"},\"NODE_LIST\":{\"id\":\"EDWFS_TEMPLATE\",\"nodes\":[{\"id\":\"kafka_etl_batch_reader\",\"type\":\"com.apple.ist.gbi.fwk.etl.keystone.core.reader.kafka.KafkaETLBatchReaderNode\"},{\"id\":\"newLine_transformer_bw_sankey_app_flow\",\"type\":\"com.apple.ist.gbi.fwk.etl.keystone.core.transformer.NewlineTransformer\",\"requires\":[\"kafka_etl_batch_reader\"]},{\"id\":\"edwfs_writer\",\"type\":\"com.apple.ist.gbi.fwk.etl.keystone.core.writer.edwfs.EdwFsWriter\",\"requires\":[\"newLine_transformer_bw_sankey_app_flow\"]}]},\"NODES_CONFIG\":[{\"NAME\":\"kafka_etl_batch_reader\",\"SOURCE_ENTITY\":{\"DATASTORE\":{\"NAME\":\"EDWFS\",\"HOST\":\"schemastore.itunes.apple.com\",\"TYPE\":\"QUEUE\",\"PORT\":443,\"USERNAME\":\"ist.gbi-etl.prod.keystone-prod\",\"CONNECTION_STRING\":\"https://kafka-kaffe-prod.pie.apple.com\",\"TECHNOLOGY\":\"PIE_KAFKA\",\"CLIENT_ID\":\"ist.gbi-etl.prod.keystone-prod\"},\"NAME\":\"bw_sankey_app_flow\",\"SCHEMA_VERSION\":1},\"CONFIG\":null},{\"NAME\":\"newLine_transformer_bw_sankey_app_flow\",\"CONFIG\":{\"newline.replacement\":\" \"}},{\"NAME\":\"edwfs_writer\",\"TARGET_ENTITY\":{\"DATASTORE\":{\"NAME\":\"EDWFS_CLOUD\",\"HOST\":\"s3.us-west-2.amazonaws.com\",\"TYPE\":\"OBJECT_STORE\",\"USERNAME\":\"ks_platform_s3_username\",\"CONNECTION_STRING\":\"https://s3.us-west-2.amazonaws.com\",\"TECHNOLOGY\":\"S3\",\"PASSWORD_KEY\":\"ks_platform_s3_password\"},\"NAME\":\"bw_sankey_app_flow\"},\"CONFIG\":{\"enableFileList\":true}}],\"CONFIG\":{}}}', update_ts=datetime.datetime(2021, 6, 25, 21, 20, 48, 937000))\n",
            "Row(process_name='S3_to_TD_load_sample_process49', batch_sk=None, process_details='{\"PROCESS\":{\"NAME\":\"S3_to_TD_load_sample_process49\",\"TEMPLATE\":\"LOADER_EDWFS_TO_TERADATA\",\"SK\":0,\"BUSINESS_AREA\":\"FINANCE\",\"PROCESS_CATEGORY\":\"SEMANTIC_REPLICATION\",\"PROCESS_SUB_CATEGORY\":\"LOAD\",\"KEYSTONE_ENABLED_INDICATOR\":\"Y\",\"APPLICATION\":{\"OWNER\":\"HealthCheck\",\"SOURCE\":\"HealthCheck\",\"TARGET\":\"HealthCheck\"},\"NODE_LIST\":{\"id\":\"EDWFStoTD\",\"nodes\":[{\"id\":\"reader_S3_to_TD_load_sample_process\",\"type\":\"EdwfsToFile\"},{\"id\":\"writer_S3_to_TD_load_sample_process\",\"type\":\"TdWriter\",\"requires\":[\"reader_S3_to_TD_load_sample_process\"]}]},\"NODES_CONFIG\":[{\"NAME\":\"reader_S3_to_TD_load_sample_process\",\"SOURCE_ENTITY\":{\"DATASTORE\":{\"NAME\":\"${fulcrum:EDWFS_CLOUD}\"},\"NAME\":\"TD_S3_TST\",\"DELIMITER\":\"|\"},\"CONFIG\":null},{\"NAME\":\"writer_S3_to_TD_load_sample_process\",\"LOAD_REFRESH_TYPE\":\"INCR-TS\",\"SOURCE_ENTITY\":{\"DATASTORE\":{\"NAME\":\"${fulcrum:SABA_STG_TERADATA}\"},\"NAME\":\"ETL_REP_LOAD_STG_TST\"},\"TARGET_ENTITY\":{\"DATASTORE\":{\"NAME\":\"${fulcrum:SABA_STG_TERADATA}\"},\"NAME\":\"ETL_REP_LOAD_FINAL_TST\"},\"PRIMARY_KEY_ATTRIBUTE_LIST\":[{\"ATTRIBUTE_MAP\":{\"SRC_ATTRIBUTE\":{\"NAME\":\"ADAM_ID\",\"CONSTRAINT\":\"PRIMARY_KEY\"},\"TGT_ATTRIBUTE\":{\"NAME\":\"ADAM_ID\",\"CONSTRAINT\":\"PRIMARY_KEY\"}}}],\"CONFIG\":null}],\"CONFIG\":{}}}', update_ts=datetime.datetime(2021, 6, 25, 21, 20, 48, 937000))\n",
            "Row(process_name='hermes_metrics_amptr2_rt_v2_S3', batch_sk=None, process_details='{\"PROCESS\":{\"NAME\":\"hermes_metrics_amptr2_rt_v2_S3\",\"TEMPLATE\":\"EDWFS_TEMPLATE\",\"ENV_CODE\":\"GBIDL\",\"SK\":0,\"BUSINESS_AREA\":\"ANTIFRAUD\",\"PROCESS_CATEGORY\":\"CORE_ETL\",\"PROCESS_SUB_CATEGORY\":\"S2F\",\"KEYSTONE_ENABLED_INDICATOR\":\"Y\",\"APPLICATION\":{\"OWNER\":\"core_af_mummra\",\"SOURCE\":\"mummra\",\"TARGET\":\"mummra\"},\"NODE_LIST\":{\"id\":\"EDWFS_TEMPLATE\",\"nodes\":[{\"id\":\"kafka_edwfs_reader\",\"type\":\"com.apple.ist.gbi.fwk.etl.keystone.core.reader.kafka.KafkaETLBatchReaderNode\"},{\"id\":\"datalake_edwfs_writer\",\"type\":\"com.apple.ist.gbi.fwk.etl.keystone.core.writer.edwfs.EdwFsWriter\",\"requires\":[\"kafka_edwfs_reader\"]}]},\"NODES_CONFIG\":[{\"NAME\":\"kafka_edwfs_reader\",\"SOURCE_ENTITY\":{\"DATASTORE\":{\"NAME\":\"EDWFS\",\"HOST\":\"schemastore.itunes.apple.com\",\"TYPE\":\"QUEUE\",\"PORT\":443,\"USERNAME\":\"ist.gbi-etl.prod.keystone-prod\",\"CONNECTION_STRING\":\"https://kafka-kaffe-prod.pie.apple.com\",\"TECHNOLOGY\":\"PIE_KAFKA\",\"CLIENT_ID\":\"ist.gbi-etl.prod.keystone-prod\"},\"NAME\":\"hermes_metrics_amptr2_rt_v2\"},\"CONFIG\":null},{\"NAME\":\"datalake_edwfs_writer\",\"TARGET_ENTITY\":{\"DATASTORE\":{\"NAME\":\"EDWFS_CLOUD\",\"HOST\":\"s3.us-west-2.amazonaws.com\",\"TYPE\":\"OBJECT_STORE\",\"USERNAME\":\"ks_platform_s3_username\",\"CONNECTION_STRING\":\"https://s3.us-west-2.amazonaws.com\",\"TECHNOLOGY\":\"S3\",\"PASSWORD_KEY\":\"ks_platform_s3_password\"},\"NAME\":\"hermes_metrics_amptr2_rt_v2\"},\"CONFIG\":{\"enableFileList\":true}}],\"CONFIG\":{}}}', update_ts=datetime.datetime(2021, 6, 25, 21, 20, 48, 937000))\n"
          ]
        }
      ]
    }
  ]
}
